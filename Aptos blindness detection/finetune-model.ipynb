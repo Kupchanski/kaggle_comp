{
 "cells": [
  {
   "cell_type": "markdown",
   "metadata": {},
   "source": [
    "\n",
    "\n",
    "Important: in kernel-only competitions we can't use internet connections. So I use pretrained models from here: https://www.kaggle.com/bminixhofer/pytorch-pretrained-image-models"
   ]
  },
  {
   "cell_type": "code",
   "execution_count": 1,
   "metadata": {},
   "outputs": [],
   "source": [
    "#!pip install \"../input/pretrained-models/pretrained-models/pretrained-models.pytorch-master\""
   ]
  },
  {
   "cell_type": "code",
   "execution_count": 2,
   "metadata": {},
   "outputs": [],
   "source": [
    "import sys\n",
    "package_path = \"../input/efficientnet-pytorch/efficientnet-pytorch/EfficientNet-PyTorch-master\"\n",
    "sys.path.append(package_path)"
   ]
  },
  {
   "cell_type": "code",
   "execution_count": 3,
   "metadata": {
    "_cell_guid": "b1076dfc-b9ad-4769-8c92-a6c4dae69d19",
    "_kg_hide-input": true,
    "_uuid": "8f2839f25d086af736a60e9eeb907d3b93b6e0e5"
   },
   "outputs": [],
   "source": [
    "# libraries\n",
    "import numpy as np\n",
    "import pandas as pd\n",
    "import os\n",
    "import cv2\n",
    "import matplotlib.pyplot as plt\n",
    "%matplotlib inline\n",
    "\n",
    "from sklearn.model_selection import train_test_split\n",
    "from sklearn.metrics import roc_auc_score\n",
    "import torch\n",
    "from torch.utils.data import TensorDataset, DataLoader,Dataset\n",
    "import torch.nn as nn\n",
    "import torch.nn.functional as F\n",
    "import torchvision\n",
    "import torchvision.transforms as transforms\n",
    "import torch.optim as optim\n",
    "from torch.optim import lr_scheduler\n",
    "import time \n",
    "import tqdm\n",
    "from PIL import Image\n",
    "train_on_gpu = True\n",
    "from torch.utils.data.sampler import SubsetRandomSampler\n",
    "from torch.optim.lr_scheduler import StepLR, ReduceLROnPlateau, CosineAnnealingLR\n",
    "import copy\n",
    "import cv2\n",
    "import albumentations\n",
    "from albumentations import torch as AT\n",
    "import random\n",
    "\n",
    "\n",
    "#import pretrainedmodels\n",
    "from efficientnet_pytorch import EfficientNet"
   ]
  },
  {
   "cell_type": "markdown",
   "metadata": {},
   "source": [
    "## Data overview"
   ]
  },
  {
   "cell_type": "code",
   "execution_count": 4,
   "metadata": {},
   "outputs": [],
   "source": [
    "def seed_everything(seed):\n",
    "    random.seed(seed)\n",
    "    os.environ['PYTHONHASHSEED'] = str(seed)\n",
    "    np.random.seed(seed)\n",
    "    torch.manual_seed(seed)\n",
    "    torch.cuda.manual_seed(seed)\n",
    "    torch.backends.cudnn.deterministic = True"
   ]
  },
  {
   "cell_type": "code",
   "execution_count": 5,
   "metadata": {},
   "outputs": [],
   "source": [
    "seed_everything(1234)"
   ]
  },
  {
   "cell_type": "code",
   "execution_count": 6,
   "metadata": {},
   "outputs": [],
   "source": [
    "train = pd.read_csv('../input/aptos2019-blindness-detection/train.csv')\n",
    "test = pd.read_csv('../input/aptos2019-blindness-detection/test.csv')\n",
    "sample_submission = pd.read_csv('../input/aptos2019-blindness-detection/sample_submission.csv')\n",
    "\n",
    "old_train = pd.read_csv('../input/diabetic-retinopathy-resized/trainLabels_cropped.csv')\n",
    "\n",
    "\n"
   ]
  },
  {
   "cell_type": "code",
   "execution_count": 7,
   "metadata": {},
   "outputs": [
    {
     "data": {
      "image/png": "[encoded data removed]",
      "text/plain": [
       "<Figure size 432x288 with 1 Axes>"
      ]
     },
     "metadata": {
      "needs_background": "light"
     },
     "output_type": "display_data"
    }
   ],
   "source": [
    "train['diagnosis'].value_counts().plot(kind='bar');\n",
    "plt.title('Class counts');"
   ]
  },
  {
   "cell_type": "markdown",
   "metadata": {},
   "source": [
    "We have a slight disbalance in data."
   ]
  },
  {
   "cell_type": "markdown",
   "metadata": {},
   "source": [
    "Personally I see little differences between images"
   ]
  },
  {
   "cell_type": "markdown",
   "metadata": {},
   "source": [
    "## Data preparation"
   ]
  },
  {
   "cell_type": "code",
   "execution_count": 8,
   "metadata": {},
   "outputs": [],
   "source": [
    "from sklearn.preprocessing import LabelEncoder, OneHotEncoder\n",
    "def prepare_labels(y):\n",
    "    # From here: https://www.kaggle.com/pestipeti/keras-cnn-starter\n",
    "    values = np.array(y)\n",
    "    label_encoder = LabelEncoder()\n",
    "    integer_encoded = label_encoder.fit_transform(values)\n",
    "\n",
    "    onehot_encoder = OneHotEncoder(sparse=False)\n",
    "    integer_encoded = integer_encoded.reshape(len(integer_encoded), 1)\n",
    "    onehot_encoded = onehot_encoder.fit_transform(integer_encoded)\n",
    "\n",
    "    y = onehot_encoded\n",
    "    return y, label_encoder"
   ]
  },
  {
   "cell_type": "code",
   "execution_count": 9,
   "metadata": {},
   "outputs": [
    {
     "name": "stderr",
     "output_type": "stream",
     "text": [
      "/opt/conda/lib/python3.6/site-packages/sklearn/preprocessing/_encoders.py:415: FutureWarning: The handling of integer data will change in version 0.22. Currently, the categories are determined based on the range [0, max(values)], while in the future they will be determined based on the unique values.\n",
      "If you want the future behaviour and silence this warning, you can specify \"categories='auto'\".\n",
      "In case you used a LabelEncoder before this OneHotEncoder to convert the categories to integers, then you can now use the OneHotEncoder directly.\n",
      "  warnings.warn(msg, FutureWarning)\n"
     ]
    }
   ],
   "source": [
    "y, le = prepare_labels(train['diagnosis'])"
   ]
  },
  {
   "cell_type": "code",
   "execution_count": 10,
   "metadata": {},
   "outputs": [],
   "source": [
    "def crop_image1(img,tol=7):\n",
    "    # img is image data\n",
    "    # tol  is tolerance\n",
    "        \n",
    "    mask = img>tol\n",
    "    return img[np.ix_(mask.any(1),mask.any(0))]\n",
    "\n",
    "def crop_image_from_gray(img,tol=7):\n",
    "    if img.ndim ==2:\n",
    "        mask = img>tol\n",
    "        return img[np.ix_(mask.any(1),mask.any(0))]\n",
    "    elif img.ndim==3:\n",
    "        gray_img = cv2.cvtColor(img, cv2.COLOR_RGB2GRAY)\n",
    "        mask = gray_img>tol\n",
    "        \n",
    "        check_shape = img[:,:,0][np.ix_(mask.any(1),mask.any(0))].shape[0]\n",
    "        if (check_shape == 0): # image is too dark so that we crop out everything,\n",
    "            return img # return original image\n",
    "        else:\n",
    "            img1=img[:,:,0][np.ix_(mask.any(1),mask.any(0))]\n",
    "            img2=img[:,:,1][np.ix_(mask.any(1),mask.any(0))]\n",
    "            img3=img[:,:,2][np.ix_(mask.any(1),mask.any(0))]\n",
    "            img = np.stack([img1,img2,img3],axis=-1)\n",
    "        return img\n",
    "\n",
    "def preprocess_image(image_path, desired_size=224):\n",
    "    img = cv2.imread(image_path)\n",
    "    img = cv2.cvtColor(img, cv2.COLOR_BGR2RGB)\n",
    "    img = crop_image_from_gray(img)\n",
    "    img = cv2.resize(img, (desired_size,desired_size))\n",
    "    img = cv2.addWeighted(img,4,cv2.GaussianBlur(img, (0,0), desired_size/30) ,-4 ,128)\n",
    "    \n",
    "    return img\n",
    "\n",
    "def preprocess_image_old(image_path, desired_size=224):\n",
    "    img = cv2.imread(image_path)\n",
    "    img = cv2.cvtColor(img, cv2.COLOR_BGR2RGB)\n",
    "    img = crop_image_from_gray(img)\n",
    "    img = cv2.resize(img, (desired_size,desired_size))\n",
    "    img = cv2.addWeighted(img,4,cv2.GaussianBlur(img, (0,0), desired_size/40) ,-4 ,128)\n",
    "    \n",
    "    return img"
   ]
  },
  {
   "cell_type": "code",
   "execution_count": 11,
   "metadata": {},
   "outputs": [],
   "source": [
    "class GlassDataset(Dataset):\n",
    "    def __init__(self, df, datatype='train', transform = transforms.Compose([transforms.CenterCrop(32),transforms.ToTensor()]), y = None):\n",
    "        self.df = df\n",
    "        self.datatype = datatype\n",
    "        if self.datatype == 'train':\n",
    "            self.image_files_list = [f'../input/aptos2019-blindness-detection/{self.datatype}_images/{i}.png' for i in df['id_code'].values]\n",
    "            #self.image_files_list = [i for i in df['id_code'].values]\n",
    "            self.labels = y\n",
    "        else:\n",
    "            self.image_files_list = [f'../input/aptos2019-blindness-detection/{self.datatype}_images/{i}.png' for i in df['id_code'].values]\n",
    "            self.labels = np.zeros((df.shape[0], 5))\n",
    "        self.transform = transform\n",
    "\n",
    "    def __len__(self):\n",
    "        return len(self.image_files_list)\n",
    "\n",
    "    def __getitem__(self, idx):\n",
    "        img_name = self.image_files_list[idx]\n",
    "        img = cv2.imread(img_name)\n",
    "        img = cv2.cvtColor(img, cv2.COLOR_BGR2RGB)\n",
    "        img = crop_image_from_gray(img)\n",
    "        image = self.transform(image=img)\n",
    "        image = image['image']\n",
    "\n",
    "        img_name_short = self.image_files_list[idx].split('.')[0]\n",
    "\n",
    "        label = self.labels[idx]\n",
    "        if self.datatype == 'test':\n",
    "            return image, label, img_name\n",
    "        else:\n",
    "            return image, label"
   ]
  },
  {
   "cell_type": "code",
   "execution_count": 12,
   "metadata": {},
   "outputs": [],
   "source": [
    "\n",
    "data_transforms = albumentations.Compose([\n",
    "    albumentations.Resize(256, 256),\n",
    "    albumentations.HorizontalFlip(),\n",
    "    albumentations.RandomBrightness(),\n",
    "    albumentations.ShiftScaleRotate(rotate_limit=15, scale_limit=0.10),\n",
    "    albumentations.HueSaturationValue(),\n",
    "    albumentations.Normalize(),\n",
    "    AT.ToTensor()\n",
    "    ])\n",
    "data_transforms_test = albumentations.Compose([\n",
    "    albumentations.Resize(256, 256),\n",
    "    albumentations.HorizontalFlip(),\n",
    "    albumentations.RandomRotate90(),\n",
    "    albumentations.Normalize(),   \n",
    "    AT.ToTensor()\n",
    "    ])\n",
    "\n",
    "\n",
    "dataset = GlassDataset(df=train, datatype='train', transform=data_transforms, y=y)\n",
    "test_set = GlassDataset(df=test, datatype='test', transform=data_transforms_test)\n",
    "tr, val = train_test_split(train.diagnosis, stratify=train.diagnosis, test_size=0.15)\n",
    "train_sampler = SubsetRandomSampler(list(tr.index))\n",
    "valid_sampler = SubsetRandomSampler(list(val.index))\n",
    "batch_size = 16\n",
    "num_workers = 0\n",
    "# prepare data loaders (combine dataset and sampler)\n",
    "train_loader = torch.utils.data.DataLoader(dataset, batch_size=batch_size, sampler=train_sampler, num_workers=num_workers)\n",
    "valid_loader = torch.utils.data.DataLoader(dataset, batch_size=batch_size, sampler=valid_sampler, num_workers=num_workers)\n",
    "test_loader = torch.utils.data.DataLoader(test_set, batch_size=batch_size, num_workers=num_workers)\n"
   ]
  },
  {
   "cell_type": "code",
   "execution_count": 13,
   "metadata": {},
   "outputs": [
    {
     "data": {
      "text/plain": [
       "device(type='cuda', index=0)"
      ]
     },
     "execution_count": 13,
     "metadata": {},
     "output_type": "execute_result"
    }
   ],
   "source": [
    "device = torch.device(\"cuda:0\" if torch.cuda.is_available() else \"cpu\")\n",
    "device"
   ]
  },
  {
   "cell_type": "code",
   "execution_count": 14,
   "metadata": {},
   "outputs": [
    {
     "data": {
      "text/plain": [
       "['model.pt']"
      ]
     },
     "execution_count": 14,
     "metadata": {},
     "output_type": "execute_result"
    }
   ],
   "source": [
    "import os\n",
    "os.listdir(\"../input/effenet4-2\")"
   ]
  },
  {
   "cell_type": "code",
   "execution_count": 15,
   "metadata": {},
   "outputs": [
    {
     "data": {
      "text/plain": [
       "<All keys matched successfully>"
      ]
     },
     "execution_count": 15,
     "metadata": {},
     "output_type": "execute_result"
    }
   ],
   "source": [
    "model_conv = EfficientNet.from_name('efficientnet-b4')\n",
    "in_features = model_conv._fc.in_features\n",
    "model_conv._fc = nn.Linear(in_features, 5)\n",
    "model_conv.load_state_dict(torch.load(\"../input/effenet4-2/model.pt\"))\n",
    "\n",
    "\n"
   ]
  },
  {
   "cell_type": "code",
   "execution_count": 16,
   "metadata": {},
   "outputs": [],
   "source": [
    "for param in model_conv.parameters():\n",
    "    param.requires_grad = True"
   ]
  },
  {
   "cell_type": "code",
   "execution_count": 17,
   "metadata": {},
   "outputs": [],
   "source": [
    "def train_model(model_conv, train_loader, valid_loader, criterion, optimizer, n_epochs=15, attempt=1):\n",
    "    model_conv.to(device)\n",
    "    valid_loss_min = np.Inf\n",
    "    patience = 5\n",
    "    # current number of epochs, where validation loss didn't increase\n",
    "    p = 0\n",
    "    # whether training should be stopped\n",
    "    stop = False\n",
    "\n",
    "    # number of epochs to train the model\n",
    "    for epoch in range(1, n_epochs+1):\n",
    "        print(time.ctime(), 'Epoch:', epoch)\n",
    "\n",
    "        train_loss = []\n",
    "        train_auc = []\n",
    "\n",
    "        for batch_i, (data, target) in enumerate(train_loader):\n",
    "\n",
    "            data, target = data.cuda(), target.cuda()\n",
    "\n",
    "            optimizer.zero_grad()\n",
    "            output = model_conv(data)\n",
    "            loss = criterion(output, target.float())\n",
    "            train_loss.append(loss.item())\n",
    "\n",
    "            a = target.data.cpu().numpy()\n",
    "            b = output[:,-1].detach().cpu().numpy()\n",
    "            # train_auc.append(roc_auc_score(a, b))\n",
    "            loss.backward()\n",
    "            optimizer.step()\n",
    "\n",
    "        model_conv.eval()\n",
    "        val_loss = []\n",
    "        val_auc = []\n",
    "        for batch_i, (data, target) in enumerate(valid_loader):\n",
    "            data, target = data.cuda(), target.cuda()\n",
    "            output = model_conv(data)\n",
    "\n",
    "            loss = criterion(output, target.float())\n",
    "\n",
    "            val_loss.append(loss.item()) \n",
    "            a = target.data.cpu().numpy()\n",
    "            b = output[:,-1].detach().cpu().numpy()\n",
    "            # val_auc.append(roc_auc_score(a, b))\n",
    "\n",
    "        # print(f'Epoch {epoch}, train loss: {np.mean(train_loss):.4f}, valid loss: {np.mean(val_loss):.4f}, train auc: {np.mean(train_auc):.4f}, valid auc: {np.mean(val_auc):.4f}')\n",
    "        print(f'Epoch {epoch}, train loss: {np.mean(train_loss):.4f}, valid loss: {np.mean(val_loss):.4f}.')\n",
    "\n",
    "        valid_loss = np.mean(val_loss)\n",
    "        scheduler.step(valid_loss)\n",
    "        if valid_loss <= valid_loss_min:\n",
    "            print('Validation loss decreased ({:.6f} --> {:.6f}).  Saving model ...'.format(\n",
    "            valid_loss_min,\n",
    "            valid_loss))\n",
    "            torch.save(model_conv.state_dict(), 'model_{}.pt'.format(attempt))\n",
    "            valid_loss_min = valid_loss\n",
    "            p = 0\n",
    "\n",
    "        # check if validation loss didn't improve\n",
    "        if valid_loss > valid_loss_min:\n",
    "            p += 1\n",
    "            print(f'{p} epochs of increasing val loss')\n",
    "            if p > patience:\n",
    "                print('Stopping training')\n",
    "                stop = True\n",
    "                break        \n",
    "\n",
    "        if stop:\n",
    "            break\n",
    "    return model_conv"
   ]
  },
  {
   "cell_type": "code",
   "execution_count": 18,
   "metadata": {},
   "outputs": [],
   "source": [
    "\n",
    "criterion = nn.MSELoss()\n",
    "#optimizer = optim.Adam(model_conv.parameters(), lr=0.001, weight_decay=1e-5)\n",
    "optimizer = optim.SGD(model_conv.parameters(), lr=0.001, momentum=0.99)\n",
    "#scheduler = CyclicLR(optimizer, base_lr=lr, max_lr=0.01, step_size=5, mode='triangular2')\n",
    "scheduler = lr_scheduler.StepLR(optimizer, step_size=3, gamma=0.1)\n",
    "scheduler = lr_scheduler.ReduceLROnPlateau(optimizer, factor=0.8, patience=2, )\n",
    "#scheduler = lr_scheduler.CosineAnnealingLR"
   ]
  },
  {
   "cell_type": "markdown",
   "metadata": {},
   "source": [
    "## Model training"
   ]
  },
  {
   "cell_type": "code",
   "execution_count": 19,
   "metadata": {},
   "outputs": [
    {
     "name": "stdout",
     "output_type": "stream",
     "text": [
      "Wed Sep  4 15:08:43 2019 Epoch: 1\n",
      "Epoch 1, train loss: 0.1066, valid loss: 0.0822.\n",
      "Validation loss decreased (inf --> 0.082180).  Saving model ...\n",
      "Wed Sep  4 15:22:40 2019 Epoch: 2\n",
      "Epoch 2, train loss: 0.0745, valid loss: 0.0733.\n",
      "Validation loss decreased (0.082180 --> 0.073322).  Saving model ...\n",
      "Wed Sep  4 15:34:07 2019 Epoch: 3\n",
      "Epoch 3, train loss: 0.0661, valid loss: 0.0665.\n",
      "Validation loss decreased (0.073322 --> 0.066536).  Saving model ...\n",
      "Wed Sep  4 15:45:20 2019 Epoch: 4\n",
      "Epoch 4, train loss: 0.0590, valid loss: 0.0629.\n",
      "Validation loss decreased (0.066536 --> 0.062881).  Saving model ...\n",
      "Wed Sep  4 15:57:03 2019 Epoch: 5\n",
      "Epoch 5, train loss: 0.0533, valid loss: 0.0622.\n",
      "Validation loss decreased (0.062881 --> 0.062214).  Saving model ...\n",
      "Wed Sep  4 16:09:20 2019 Epoch: 6\n",
      "Epoch 6, train loss: 0.0509, valid loss: 0.0615.\n",
      "Validation loss decreased (0.062214 --> 0.061508).  Saving model ...\n",
      "Wed Sep  4 16:20:56 2019 Epoch: 7\n",
      "Epoch 7, train loss: 0.0482, valid loss: 0.0582.\n",
      "Validation loss decreased (0.061508 --> 0.058202).  Saving model ...\n",
      "Wed Sep  4 16:32:20 2019 Epoch: 8\n",
      "Epoch 8, train loss: 0.0444, valid loss: 0.0595.\n",
      "1 epochs of increasing val loss\n",
      "Wed Sep  4 16:43:26 2019 Epoch: 9\n",
      "Epoch 9, train loss: 0.0406, valid loss: 0.0561.\n",
      "Validation loss decreased (0.058202 --> 0.056133).  Saving model ...\n",
      "Wed Sep  4 16:54:26 2019 Epoch: 10\n",
      "Epoch 10, train loss: 0.0408, valid loss: 0.0572.\n",
      "1 epochs of increasing val loss\n",
      "Wed Sep  4 17:05:18 2019 Epoch: 11\n",
      "Epoch 11, train loss: 0.0374, valid loss: 0.0585.\n",
      "2 epochs of increasing val loss\n",
      "Wed Sep  4 17:16:16 2019 Epoch: 12\n",
      "Epoch 12, train loss: 0.0348, valid loss: 0.0504.\n",
      "Validation loss decreased (0.056133 --> 0.050369).  Saving model ...\n",
      "Wed Sep  4 17:27:06 2019 Epoch: 13\n",
      "Epoch 13, train loss: 0.0321, valid loss: 0.0532.\n",
      "1 epochs of increasing val loss\n",
      "Wed Sep  4 17:37:48 2019 Epoch: 14\n",
      "Epoch 14, train loss: 0.0295, valid loss: 0.0563.\n",
      "2 epochs of increasing val loss\n",
      "Wed Sep  4 17:48:53 2019 Epoch: 15\n",
      "Epoch 15, train loss: 0.0295, valid loss: 0.0556.\n",
      "3 epochs of increasing val loss\n"
     ]
    }
   ],
   "source": [
    "model_resnet101 = train_model(model_conv, train_loader, valid_loader, criterion = criterion, \n",
    "                              optimizer = optimizer, n_epochs=15, attempt=1)"
   ]
  },
  {
   "cell_type": "markdown",
   "metadata": {},
   "source": [
    "## Predicting"
   ]
  },
  {
   "cell_type": "code",
   "execution_count": 20,
   "metadata": {},
   "outputs": [
    {
     "data": {
      "text/plain": [
       "'def test_model(model, test_loader):\\n    sub = pd.read_csv(\\'../input/aptos2019-blindness-detection/sample_submission.csv\\')\\n    model.eval()\\n    for (data, target, name) in test_loader:\\n        data = data.cuda()\\n        output = model(data)\\n        output = output.cpu().detach().numpy()\\n        for i, (e, n) in enumerate(list(zip(output, name))):\\n            sub.loc[sub[\\'id_code\\'] == n.split(\\'/\\')[-1].split(\\'.\\')[0], \\'diagnosis\\'] = le.inverse_transform([np.argmax(e)])\\n    print( \"done\")\\n    return sub'"
      ]
     },
     "execution_count": 20,
     "metadata": {},
     "output_type": "execute_result"
    }
   ],
   "source": [
    "\"\"\"def test_model(model, test_loader):\n",
    "    sub = pd.read_csv('../input/aptos2019-blindness-detection/sample_submission.csv')\n",
    "    model.eval()\n",
    "    for (data, target, name) in test_loader:\n",
    "        data = data.cuda()\n",
    "        output = model(data)\n",
    "        output = output.cpu().detach().numpy()\n",
    "        for i, (e, n) in enumerate(list(zip(output, name))):\n",
    "            sub.loc[sub['id_code'] == n.split('/')[-1].split('.')[0], 'diagnosis'] = le.inverse_transform([np.argmax(e)])\n",
    "    print( \"done\")\n",
    "    return sub\"\"\""
   ]
  },
  {
   "cell_type": "code",
   "execution_count": 21,
   "metadata": {},
   "outputs": [
    {
     "data": {
      "text/plain": [
       "'test_resnet101_1 = test_model(model_resnet101, test_loader)\\ntest_resnet101_2 = test_model(model_resnet101, test_loader)\\ntest_resnet101_3 = test_model(model_resnet101, test_loader)\\ntest_resnet101_4 = test_model(model_resnet101, test_loader)\\ntest_resnet101_5 = test_model(model_resnet101, test_loader)\\ntest_resnet101_6 = test_model(model_resnet101, test_loader)\\ntest_resnet101_7 = test_model(model_resnet101, test_loader)\\ntest_resnet101_8 = test_model(model_resnet101, test_loader)\\n\\n'"
      ]
     },
     "execution_count": 21,
     "metadata": {},
     "output_type": "execute_result"
    }
   ],
   "source": [
    "\"\"\"test_resnet101_1 = test_model(model_resnet101, test_loader)\n",
    "test_resnet101_2 = test_model(model_resnet101, test_loader)\n",
    "test_resnet101_3 = test_model(model_resnet101, test_loader)\n",
    "test_resnet101_4 = test_model(model_resnet101, test_loader)\n",
    "test_resnet101_5 = test_model(model_resnet101, test_loader)\n",
    "test_resnet101_6 = test_model(model_resnet101, test_loader)\n",
    "test_resnet101_7 = test_model(model_resnet101, test_loader)\n",
    "test_resnet101_8 = test_model(model_resnet101, test_loader)\n",
    "\n",
    "\"\"\""
   ]
  },
  {
   "cell_type": "code",
   "execution_count": 22,
   "metadata": {},
   "outputs": [
    {
     "data": {
      "text/plain": [
       "'test_preds = (test_resnet101_1.diagnosis + test_resnet101_2.diagnosis + test_resnet101_3.diagnosis + test_resnet101_4.diagnosis + test_resnet101_5.diagnosis \\n              + test_resnet101_6.diagnosis + test_resnet101_7.diagnosis  \\n               + test_resnet101_8.diagnosis ) / 8'"
      ]
     },
     "execution_count": 22,
     "metadata": {},
     "output_type": "execute_result"
    }
   ],
   "source": [
    "\"\"\"test_preds = (test_resnet101_1.diagnosis + test_resnet101_2.diagnosis + test_resnet101_3.diagnosis + test_resnet101_4.diagnosis + test_resnet101_5.diagnosis \n",
    "              + test_resnet101_6.diagnosis + test_resnet101_7.diagnosis  \n",
    "               + test_resnet101_8.diagnosis ) / 8\"\"\""
   ]
  },
  {
   "cell_type": "code",
   "execution_count": 23,
   "metadata": {},
   "outputs": [
    {
     "data": {
      "text/plain": [
       "'coef = [0.5, 1.5, 2.5, 3.5]\\n\\nfor i, pred in enumerate(test_preds):\\n    if pred < coef[0]:\\n        test_preds[i] = 0\\n    elif pred >= coef[0] and pred < coef[1]:\\n        test_preds[i] = 1\\n    elif pred >= coef[1] and pred < coef[2]:\\n        test_preds[i] = 2\\n    elif pred >= coef[2] and pred < coef[3]:\\n        test_preds[i] = 3\\n    else:\\n        test_preds[i] = 4\\n'"
      ]
     },
     "execution_count": 23,
     "metadata": {},
     "output_type": "execute_result"
    }
   ],
   "source": [
    "\"\"\"coef = [0.5, 1.5, 2.5, 3.5]\n",
    "\n",
    "for i, pred in enumerate(test_preds):\n",
    "    if pred < coef[0]:\n",
    "        test_preds[i] = 0\n",
    "    elif pred >= coef[0] and pred < coef[1]:\n",
    "        test_preds[i] = 1\n",
    "    elif pred >= coef[1] and pred < coef[2]:\n",
    "        test_preds[i] = 2\n",
    "    elif pred >= coef[2] and pred < coef[3]:\n",
    "        test_preds[i] = 3\n",
    "    else:\n",
    "        test_preds[i] = 4\n",
    "\"\"\""
   ]
  },
  {
   "cell_type": "code",
   "execution_count": 24,
   "metadata": {},
   "outputs": [
    {
     "data": {
      "text/plain": [
       "'sample = pd.read_csv(\"../input/aptos2019-blindness-detection/sample_submission.csv\")\\nsample.diagnosis = test_preds.astype(int)\\nsample.to_csv(\"submission.csv\", index=False)'"
      ]
     },
     "execution_count": 24,
     "metadata": {},
     "output_type": "execute_result"
    }
   ],
   "source": [
    "\"\"\"sample = pd.read_csv(\"../input/aptos2019-blindness-detection/sample_submission.csv\")\n",
    "sample.diagnosis = test_preds.astype(int)\n",
    "sample.to_csv(\"submission.csv\", index=False)\"\"\""
   ]
  }
 ],
 "metadata": {
  "kernelspec": {
   "display_name": "Python 3",
   "language": "python",
   "name": "python3"
  },
  "language_info": {
   "codemirror_mode": {
    "name": "ipython",
    "version": 3
   },
   "file_extension": ".py",
   "mimetype": "text/x-python",
   "name": "python",
   "nbconvert_exporter": "python",
   "pygments_lexer": "ipython3",
   "version": "3.6.6"
  }
 },
 "nbformat": 4,
 "nbformat_minor": 1
}
